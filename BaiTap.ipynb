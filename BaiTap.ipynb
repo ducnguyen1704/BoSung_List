{
 "cells": [
  {
   "cell_type": "markdown",
   "metadata": {},
   "source": [
    "# Lọc số nguyên tố trong LIST"
   ]
  },
  {
   "cell_type": "code",
   "execution_count": 1,
   "metadata": {},
   "outputs": [],
   "source": [
    "import math\n",
    "lst = [2,5,6,7,8,9,10,11,12,13]\n",
    "def get_primes_list(lst):\n",
    "    prime = []\n",
    "    count = 0\n",
    "    for i in lst:\n",
    "        if i < 2:\n",
    "            continue\n",
    "        else:\n",
    "            count = 0\n",
    "            for j in range(1, i + 1):\n",
    "                if i % j == 0:\n",
    "                    count += 1\n",
    "            if count == 2: # số ước bằng 2\n",
    "                prime.append(i)\n",
    "            else:\n",
    "                continue\n",
    "    return prime"
   ]
  },
  {
   "cell_type": "code",
   "execution_count": 2,
   "metadata": {},
   "outputs": [
    {
     "name": "stdout",
     "output_type": "stream",
     "text": [
      "Danh sách số nguyên tố:  [2, 5, 7, 11, 13]\n"
     ]
    }
   ],
   "source": [
    "prime = get_primes_list(lst)\n",
    "print(\"Danh sách số nguyên tố: \",prime)"
   ]
  },
  {
   "cell_type": "markdown",
   "metadata": {},
   "source": [
    "# Bài Ma Trận"
   ]
  },
  {
   "cell_type": "code",
   "execution_count": 1,
   "metadata": {},
   "outputs": [],
   "source": [
    "import random\n",
    "matrix = []"
   ]
  },
  {
   "cell_type": "code",
   "execution_count": 2,
   "metadata": {},
   "outputs": [
    {
     "name": "stdout",
     "output_type": "stream",
     "text": [
      "Nhập vào số hàng: 2\n",
      "Nhập vào số cột: 3\n"
     ]
    }
   ],
   "source": [
    "m = int(input(\"Nhập vào số hàng: \"))\n",
    "n = int(input(\"Nhập vào số cột: \"))"
   ]
  },
  {
   "cell_type": "code",
   "execution_count": 3,
   "metadata": {},
   "outputs": [
    {
     "name": "stdout",
     "output_type": "stream",
     "text": [
      "[[0, 6, 9], [7, 4, 5]]\n"
     ]
    }
   ],
   "source": [
    "for i in range(m):\n",
    "    matrix.append([])\n",
    "    for j in range(n):\n",
    "        matrix[i].append(random.randint(0,9))\n",
    "print(matrix)"
   ]
  },
  {
   "cell_type": "code",
   "execution_count": null,
   "metadata": {},
   "outputs": [],
   "source": []
  }
 ],
 "metadata": {
  "kernelspec": {
   "display_name": "Python 3",
   "language": "python",
   "name": "python3"
  },
  "language_info": {
   "codemirror_mode": {
    "name": "ipython",
    "version": 3
   },
   "file_extension": ".py",
   "mimetype": "text/x-python",
   "name": "python",
   "nbconvert_exporter": "python",
   "pygments_lexer": "ipython3",
   "version": "3.7.6"
  }
 },
 "nbformat": 4,
 "nbformat_minor": 4
}
