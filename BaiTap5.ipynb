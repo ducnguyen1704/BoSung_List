{
 "cells": [
  {
   "cell_type": "markdown",
   "metadata": {},
   "source": [
    "# Tính tổng trên 1 cột tuple"
   ]
  },
  {
   "cell_type": "code",
   "execution_count": 29,
   "metadata": {},
   "outputs": [
    {
     "data": {
      "text/plain": [
       "((1, 2, 3), (4, 5, 6), (7, 8, 9))"
      ]
     },
     "execution_count": 29,
     "metadata": {},
     "output_type": "execute_result"
    }
   ],
   "source": [
    "matrix = ((1,2,3),\n",
    "         (4,5,6),\n",
    "         (7,8,9))\n",
    "matrix"
   ]
  },
  {
   "cell_type": "code",
   "execution_count": 36,
   "metadata": {},
   "outputs": [],
   "source": [
    "    a1 = matrix[0][0] + matrix[1][0] + matrix[2][0]\n",
    "    a2 = matrix[0][1] + matrix[1][1] + matrix[2][1]\n",
    "    a3 = matrix[0][2] + matrix[1][2] + matrix[2][2]"
   ]
  },
  {
   "cell_type": "code",
   "execution_count": 38,
   "metadata": {},
   "outputs": [
    {
     "data": {
      "text/plain": [
       "(12, 15, 18)"
      ]
     },
     "execution_count": 38,
     "metadata": {},
     "output_type": "execute_result"
    }
   ],
   "source": [
    "tup = (a1,a2,a3)\n",
    "tup"
   ]
  },
  {
   "cell_type": "markdown",
   "metadata": {},
   "source": [
    "# Hiện  tại em vẫn chưa tìm được hướng giải quyết khi làm input ạ."
   ]
  },
  {
   "cell_type": "code",
   "execution_count": null,
   "metadata": {},
   "outputs": [],
   "source": [
    "matrix = tuple()\n",
    "m = int(input(\"Nhâp vào số hàng ma trận: \"))\n",
    "n = int(input(\"Nhâp vào số cột ma trận:  \"))\n",
    "def create_matrix(m):\n",
    "    for i in range(m):\n",
    "        matrix = matrix + 1\n",
    "        for j in range(n):\n",
    "            x = int(input(\"Nhap phan tu thu a[%2d][%2d]: \" % (i, j)))\n",
    "            matrix[i] += matrix(x,)\n",
    "    return matrix\n",
    "create_matrix(m)"
   ]
  }
 ],
 "metadata": {
  "kernelspec": {
   "display_name": "Python 3",
   "language": "python",
   "name": "python3"
  },
  "language_info": {
   "codemirror_mode": {
    "name": "ipython",
    "version": 3
   },
   "file_extension": ".py",
   "mimetype": "text/x-python",
   "name": "python",
   "nbconvert_exporter": "python",
   "pygments_lexer": "ipython3",
   "version": "3.7.6"
  }
 },
 "nbformat": 4,
 "nbformat_minor": 4
}
