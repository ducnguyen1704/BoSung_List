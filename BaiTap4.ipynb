{
 "cells": [
  {
   "cell_type": "markdown",
   "metadata": {},
   "source": [
    "# Tạo LIST 1 chiều từ LIST 2 chiều"
   ]
  },
  {
   "cell_type": "code",
   "execution_count": 50,
   "metadata": {},
   "outputs": [
    {
     "name": "stdout",
     "output_type": "stream",
     "text": [
      "Nhâp vào số hàng và cột ma trận vuông:  3\n",
      "Nhap phan tu thu a[ 0][ 0]: 1\n",
      "Nhap phan tu thu a[ 0][ 1]: 2\n",
      "Nhap phan tu thu a[ 0][ 2]: 3\n",
      "Nhap phan tu thu a[ 1][ 0]: 4\n",
      "Nhap phan tu thu a[ 1][ 1]: 5\n",
      "Nhap phan tu thu a[ 1][ 2]: 6\n",
      "Nhap phan tu thu a[ 2][ 0]: 7\n",
      "Nhap phan tu thu a[ 2][ 1]: 8\n",
      "Nhap phan tu thu a[ 2][ 2]: 9\n"
     ]
    },
    {
     "data": {
      "text/plain": [
       "[[1, 2, 3], [4, 5, 6], [7, 8, 9]]"
      ]
     },
     "execution_count": 50,
     "metadata": {},
     "output_type": "execute_result"
    }
   ],
   "source": [
    "matrix = []\n",
    "lst = []\n",
    "m = int(input(\"Nhâp vào số hàng và cột ma trận vuông:  \"))\n",
    "def create_matrix(m):\n",
    "    for i in range(m):\n",
    "        matrix.append([])\n",
    "        for j in range(m):\n",
    "            x = int(input(\"Nhap phan tu thu a[%2d][%2d]: \" % (i, j)))\n",
    "            matrix[i].append(x)\n",
    "    return matrix\n",
    "create_matrix(m)"
   ]
  },
  {
   "cell_type": "code",
   "execution_count": 51,
   "metadata": {},
   "outputs": [
    {
     "name": "stdout",
     "output_type": "stream",
     "text": [
      "[1, 2, 3, 4, 5, 6, 7, 8, 9]\n"
     ]
    }
   ],
   "source": [
    "for i in range(m):\n",
    "    for j in range(m):\n",
    "        lst.append(matrix[i][j])\n",
    "        j+=1  \n",
    "print(lst)"
   ]
  },
  {
   "cell_type": "code",
   "execution_count": 49,
   "metadata": {},
   "outputs": [
    {
     "data": {
      "text/plain": [
       "[4, 3]"
      ]
     },
     "execution_count": 49,
     "metadata": {},
     "output_type": "execute_result"
    }
   ],
   "source": [
    "matrix[1][0:2][::-1]"
   ]
  },
  {
   "cell_type": "code",
   "execution_count": null,
   "metadata": {},
   "outputs": [],
   "source": []
  }
 ],
 "metadata": {
  "kernelspec": {
   "display_name": "Python 3",
   "language": "python",
   "name": "python3"
  },
  "language_info": {
   "codemirror_mode": {
    "name": "ipython",
    "version": 3
   },
   "file_extension": ".py",
   "mimetype": "text/x-python",
   "name": "python",
   "nbconvert_exporter": "python",
   "pygments_lexer": "ipython3",
   "version": "3.7.6"
  }
 },
 "nbformat": 4,
 "nbformat_minor": 4
}
