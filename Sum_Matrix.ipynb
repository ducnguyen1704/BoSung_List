{
 "cells": [
  {
   "cell_type": "markdown",
   "metadata": {},
   "source": [
    "# Bài tập tính tổng đường chéo chính của ma trận"
   ]
  },
  {
   "cell_type": "code",
   "execution_count": 59,
   "metadata": {},
   "outputs": [
    {
     "data": {
      "text/plain": [
       "15"
      ]
     },
     "execution_count": 59,
     "metadata": {},
     "output_type": "execute_result"
    }
   ],
   "source": [
    "# Công thức để giải bài toán.\n",
    "a = [[2,3,4],\n",
    "     [4,5,6],\n",
    "     [6,7,8]]\n",
    "a[0][0]+a[1][1]+a[2][2]"
   ]
  },
  {
   "cell_type": "code",
   "execution_count": 63,
   "metadata": {},
   "outputs": [
    {
     "name": "stdout",
     "output_type": "stream",
     "text": [
      "Nhâp vào số hàng và cột ma trận vuông: 2\n",
      "Nhap phan tu thu a[ 0][ 0]: 1\n",
      "Nhap phan tu thu a[ 0][ 1]: 5\n",
      "Nhap phan tu thu a[ 1][ 0]: 6\n",
      "Nhap phan tu thu a[ 1][ 1]: 8\n"
     ]
    },
    {
     "data": {
      "text/plain": [
       "[[1, 5], [6, 8]]"
      ]
     },
     "execution_count": 63,
     "metadata": {},
     "output_type": "execute_result"
    }
   ],
   "source": [
    "matrix = []\n",
    "m = int(input(\"Nhâp vào số hàng và cột ma trận vuông: \"))\n",
    "def create_matrix(m):\n",
    "    for i in range(m):\n",
    "        matrix.append([])\n",
    "        for j in range(m):\n",
    "            x = int(input(\"Nhap phan tu thu a[%2d][%2d]: \" % (i, j)))\n",
    "            matrix[i].append(x)\n",
    "    return matrix\n",
    "create_matrix(m)"
   ]
  },
  {
   "cell_type": "code",
   "execution_count": 65,
   "metadata": {},
   "outputs": [],
   "source": [
    "def sum_diagonal(m):\n",
    "    total = 0\n",
    "    for i in range(m):\n",
    "        for j in range(m):\n",
    "            if i == j:\n",
    "                total = total + matrix[i][j]\n",
    "    return total"
   ]
  },
  {
   "cell_type": "code",
   "execution_count": 66,
   "metadata": {},
   "outputs": [
    {
     "name": "stdout",
     "output_type": "stream",
     "text": [
      "Tổng của đường chéo chính là:  9\n"
     ]
    }
   ],
   "source": [
    "print(\"Tổng của đường chéo chính là: \", sum_diagonal(m))"
   ]
  },
  {
   "cell_type": "code",
   "execution_count": null,
   "metadata": {},
   "outputs": [],
   "source": []
  }
 ],
 "metadata": {
  "kernelspec": {
   "display_name": "Python 3",
   "language": "python",
   "name": "python3"
  },
  "language_info": {
   "codemirror_mode": {
    "name": "ipython",
    "version": 3
   },
   "file_extension": ".py",
   "mimetype": "text/x-python",
   "name": "python",
   "nbconvert_exporter": "python",
   "pygments_lexer": "ipython3",
   "version": "3.7.6"
  }
 },
 "nbformat": 4,
 "nbformat_minor": 4
}
